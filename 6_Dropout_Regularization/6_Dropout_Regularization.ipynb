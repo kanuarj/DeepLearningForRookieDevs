{
  "nbformat": 4,
  "nbformat_minor": 0,
  "metadata": {
    "colab": {
      "name": "6_Dropout_Regularization.ipynb",
      "provenance": [],
      "collapsed_sections": []
    },
    "kernelspec": {
      "name": "python3",
      "display_name": "Python 3"
    },
    "language_info": {
      "name": "python"
    },
    "accelerator": "GPU"
  },
  "cells": [
    {
      "cell_type": "code",
      "metadata": {
        "id": "dYGsZBvtvNUR",
        "colab": {
          "base_uri": "https://localhost:8080/"
        },
        "outputId": "b60e8a43-3a21-423f-8b18-5311cf989b34"
      },
      "source": [
        "import tensorflow as tf\n",
        "import os\n",
        "dataset_url = \"https://storage.googleapis.com/download.tensorflow.org/example_images/flower_photos.tgz\"\n",
        "\n",
        "zip_data = tf.keras.utils.get_file(\n",
        "    origin = dataset_url,\n",
        "    fname = 'flower_photos.tgz',\n",
        "    extract = True\n",
        ")\n",
        "\n",
        "base_directory = os.path.join(os.path.dirname(zip_data), 'flower_photos')\n",
        "\n",
        "data_generator = tf.keras.preprocessing.image.ImageDataGenerator(\n",
        "    rescale = 1.0 / 255.0,\n",
        "    validation_split = 0.2\n",
        ") \n",
        "\n",
        "batchsize = 64\n",
        "\n",
        "training_data = data_generator.flow_from_directory(\n",
        "    base_directory,\n",
        "    target_size = (224, 224),\n",
        "    batch_size = batchsize,\n",
        "    subset = 'training'\n",
        ")\n",
        "\n",
        "testing_data = data_generator.flow_from_directory(\n",
        "    base_directory,\n",
        "    target_size = (224, 224),\n",
        "    batch_size = batchsize,\n",
        "    subset = 'validation'\n",
        ")"
      ],
      "execution_count": 1,
      "outputs": [
        {
          "output_type": "stream",
          "text": [
            "Downloading data from https://storage.googleapis.com/download.tensorflow.org/example_images/flower_photos.tgz\n",
            "228818944/228813984 [==============================] - 2s 0us/step\n",
            "Found 2939 images belonging to 5 classes.\n",
            "Found 731 images belonging to 5 classes.\n"
          ],
          "name": "stdout"
        }
      ]
    },
    {
      "cell_type": "code",
      "metadata": {
        "id": "r4lvYH644QZ1"
      },
      "source": [
        "model = tf.keras.models.Sequential(\n",
        "    [\n",
        "     tf.keras.layers.Conv2D(\n",
        "         64,\n",
        "         (3, 3),\n",
        "         activation = 'relu',\n",
        "         input_shape = (224, 224, 3)\n",
        "     ),\n",
        "     tf.keras.layers.MaxPooling2D(2, 2),\n",
        "     tf.keras.layers.Conv2D(\n",
        "         64,\n",
        "         (3, 3),\n",
        "         activation = 'relu'\n",
        "     ),\n",
        "     tf.keras.layers.MaxPooling2D(2, 2),\n",
        "     tf.keras.layers.Conv2D(\n",
        "         64,\n",
        "         (3, 3),\n",
        "         activation = 'relu'\n",
        "     ),\n",
        "     tf.keras.layers.MaxPooling2D(2, 2),\n",
        "     tf.keras.layers.Flatten(),\n",
        "     tf.keras.layers.Dense(\n",
        "         512,\n",
        "         activation = 'relu'\n",
        "     ),\n",
        "     tf.keras.layers.Dense(\n",
        "         5,\n",
        "         activation = 'softmax'\n",
        "     )\n",
        "    ]\n",
        ")"
      ],
      "execution_count": 14,
      "outputs": []
    },
    {
      "cell_type": "code",
      "metadata": {
        "colab": {
          "base_uri": "https://localhost:8080/"
        },
        "id": "TgJAZhzw5ZYr",
        "outputId": "e5150629-ddc1-4a0c-92a5-0654ca7c7079"
      },
      "source": [
        "model.summary()"
      ],
      "execution_count": 15,
      "outputs": [
        {
          "output_type": "stream",
          "text": [
            "Model: \"sequential_1\"\n",
            "_________________________________________________________________\n",
            "Layer (type)                 Output Shape              Param #   \n",
            "=================================================================\n",
            "conv2d_5 (Conv2D)            (None, 222, 222, 64)      1792      \n",
            "_________________________________________________________________\n",
            "max_pooling2d_5 (MaxPooling2 (None, 111, 111, 64)      0         \n",
            "_________________________________________________________________\n",
            "conv2d_6 (Conv2D)            (None, 109, 109, 64)      36928     \n",
            "_________________________________________________________________\n",
            "max_pooling2d_6 (MaxPooling2 (None, 54, 54, 64)        0         \n",
            "_________________________________________________________________\n",
            "conv2d_7 (Conv2D)            (None, 52, 52, 64)        36928     \n",
            "_________________________________________________________________\n",
            "max_pooling2d_7 (MaxPooling2 (None, 26, 26, 64)        0         \n",
            "_________________________________________________________________\n",
            "flatten_1 (Flatten)          (None, 43264)             0         \n",
            "_________________________________________________________________\n",
            "dense_4 (Dense)              (None, 512)               22151680  \n",
            "_________________________________________________________________\n",
            "dense_5 (Dense)              (None, 5)                 2565      \n",
            "=================================================================\n",
            "Total params: 22,229,893\n",
            "Trainable params: 22,229,893\n",
            "Non-trainable params: 0\n",
            "_________________________________________________________________\n"
          ],
          "name": "stdout"
        }
      ]
    },
    {
      "cell_type": "code",
      "metadata": {
        "id": "LCou8NAo5cOF"
      },
      "source": [
        "model.compile(\n",
        "    loss = 'categorical_crossentropy',\n",
        "    optimizer = 'sgd',\n",
        "    metrics = ['accuracy']\n",
        ")"
      ],
      "execution_count": 16,
      "outputs": []
    },
    {
      "cell_type": "code",
      "metadata": {
        "id": "ZTNX-uqD6JBw"
      },
      "source": [
        "training_steps = training_data.samples // batchsize\n",
        "testing_steps = testing_data.samples // batchsize"
      ],
      "execution_count": 17,
      "outputs": []
    },
    {
      "cell_type": "code",
      "metadata": {
        "colab": {
          "base_uri": "https://localhost:8080/"
        },
        "id": "aqJi_ROock7o",
        "outputId": "7b1e00dd-2f88-41da-c2aa-e0f9d802f9b2"
      },
      "source": [
        "testing_steps"
      ],
      "execution_count": 19,
      "outputs": [
        {
          "output_type": "execute_result",
          "data": {
            "text/plain": [
              "11"
            ]
          },
          "metadata": {
            "tags": []
          },
          "execution_count": 19
        }
      ]
    },
    {
      "cell_type": "code",
      "metadata": {
        "colab": {
          "base_uri": "https://localhost:8080/"
        },
        "id": "iaw1MX_a5t6V",
        "outputId": "2a2084d3-9c1b-4169-dc65-fecc780ccc4b"
      },
      "source": [
        "model.fit(\n",
        "    training_data,\n",
        "    validation_data = testing_data,\n",
        "    epochs = 10,\n",
        "    steps_per_epoch = training_steps,\n",
        "    validation_steps = testing_steps,\n",
        ")"
      ],
      "execution_count": 21,
      "outputs": [
        {
          "output_type": "stream",
          "text": [
            "Epoch 1/10\n",
            "45/45 [==============================] - 13s 279ms/step - loss: 0.9365 - accuracy: 0.6393 - val_loss: 1.0773 - val_accuracy: 0.5696\n",
            "Epoch 2/10\n",
            "45/45 [==============================] - 12s 275ms/step - loss: 0.9244 - accuracy: 0.6410 - val_loss: 1.0442 - val_accuracy: 0.5767\n",
            "Epoch 3/10\n",
            "45/45 [==============================] - 12s 274ms/step - loss: 0.8746 - accuracy: 0.6671 - val_loss: 1.0675 - val_accuracy: 0.5753\n",
            "Epoch 4/10\n",
            "45/45 [==============================] - 12s 274ms/step - loss: 0.8549 - accuracy: 0.6734 - val_loss: 1.0365 - val_accuracy: 0.5952\n",
            "Epoch 5/10\n",
            "45/45 [==============================] - 12s 273ms/step - loss: 0.8344 - accuracy: 0.6814 - val_loss: 1.0343 - val_accuracy: 0.5838\n",
            "Epoch 6/10\n",
            "45/45 [==============================] - 12s 273ms/step - loss: 0.7946 - accuracy: 0.7002 - val_loss: 1.0706 - val_accuracy: 0.5810\n",
            "Epoch 7/10\n",
            "45/45 [==============================] - 12s 275ms/step - loss: 0.7814 - accuracy: 0.7071 - val_loss: 1.1743 - val_accuracy: 0.5568\n",
            "Epoch 8/10\n",
            "45/45 [==============================] - 13s 279ms/step - loss: 0.7556 - accuracy: 0.7238 - val_loss: 1.0288 - val_accuracy: 0.5952\n",
            "Epoch 9/10\n",
            "45/45 [==============================] - 13s 281ms/step - loss: 0.7577 - accuracy: 0.7096 - val_loss: 1.0752 - val_accuracy: 0.5909\n",
            "Epoch 10/10\n",
            "45/45 [==============================] - 13s 276ms/step - loss: 0.6834 - accuracy: 0.7464 - val_loss: 1.0405 - val_accuracy: 0.6094\n"
          ],
          "name": "stdout"
        },
        {
          "output_type": "execute_result",
          "data": {
            "text/plain": [
              "<tensorflow.python.keras.callbacks.History at 0x7f14720b4190>"
            ]
          },
          "metadata": {
            "tags": []
          },
          "execution_count": 21
        }
      ]
    },
    {
      "cell_type": "markdown",
      "metadata": {
        "id": "qpzwptihZnqv"
      },
      "source": [
        "![title](https://miro.medium.com/max/1660/1*9hPX9pAO3jqLrzt0IE3JzA.png) \\\n",
        "Source ~ https://towardsdatascience.com/understanding-the-bias-variance-tradeoff-165e6942b229"
      ]
    },
    {
      "cell_type": "markdown",
      "metadata": {
        "id": "NTWRjyFxaaOc"
      },
      "source": [
        "**Basic Training and Testing Methodology**\n",
        "![title](https://imgix.lifehacker.com.au/content/uploads/sites/4/2015/03/IMG_20150319_112511.jpg) \\\n",
        "Source ~ https://www.lifehacker.com.au/2015/03/the-basic-recipe-for-machine-learning-explained-in-a-single-powerpoint-slide/ \\\n"
      ]
    },
    {
      "cell_type": "code",
      "metadata": {
        "colab": {
          "base_uri": "https://localhost:8080/"
        },
        "id": "8tjtssHma9p8",
        "outputId": "cf74df0e-2133-4417-b14a-67ccd8c9364c"
      },
      "source": [
        "model.fit(\n",
        "    training_data,\n",
        "    validation_data = testing_data,\n",
        "    epochs = 25,\n",
        "    steps_per_epoch = training_steps,\n",
        "    validation_steps = testing_steps,\n",
        ")"
      ],
      "execution_count": 22,
      "outputs": [
        {
          "output_type": "stream",
          "text": [
            "Epoch 1/25\n",
            "45/45 [==============================] - 13s 283ms/step - loss: 0.6787 - accuracy: 0.7513 - val_loss: 1.0207 - val_accuracy: 0.5909\n",
            "Epoch 2/25\n",
            "45/45 [==============================] - 13s 280ms/step - loss: 0.6450 - accuracy: 0.7635 - val_loss: 0.9944 - val_accuracy: 0.6264\n",
            "Epoch 3/25\n",
            "45/45 [==============================] - 13s 278ms/step - loss: 0.6329 - accuracy: 0.7750 - val_loss: 0.9942 - val_accuracy: 0.6378\n",
            "Epoch 4/25\n",
            "45/45 [==============================] - 13s 278ms/step - loss: 0.6127 - accuracy: 0.7774 - val_loss: 1.3853 - val_accuracy: 0.5668\n",
            "Epoch 5/25\n",
            "45/45 [==============================] - 13s 278ms/step - loss: 0.5859 - accuracy: 0.7903 - val_loss: 0.9834 - val_accuracy: 0.6307\n",
            "Epoch 6/25\n",
            "45/45 [==============================] - 13s 279ms/step - loss: 0.5757 - accuracy: 0.8007 - val_loss: 1.0096 - val_accuracy: 0.6122\n",
            "Epoch 7/25\n",
            "45/45 [==============================] - 12s 277ms/step - loss: 0.5270 - accuracy: 0.8083 - val_loss: 0.9817 - val_accuracy: 0.6122\n",
            "Epoch 8/25\n",
            "45/45 [==============================] - 13s 281ms/step - loss: 0.5071 - accuracy: 0.8243 - val_loss: 0.9897 - val_accuracy: 0.6307\n",
            "Epoch 9/25\n",
            "45/45 [==============================] - 13s 278ms/step - loss: 0.4501 - accuracy: 0.8428 - val_loss: 1.0392 - val_accuracy: 0.6023\n",
            "Epoch 10/25\n",
            "45/45 [==============================] - 13s 280ms/step - loss: 0.4601 - accuracy: 0.8497 - val_loss: 1.0749 - val_accuracy: 0.6179\n",
            "Epoch 11/25\n",
            "45/45 [==============================] - 13s 280ms/step - loss: 0.4409 - accuracy: 0.8470 - val_loss: 1.1342 - val_accuracy: 0.5909\n",
            "Epoch 12/25\n",
            "45/45 [==============================] - 12s 276ms/step - loss: 0.3712 - accuracy: 0.8870 - val_loss: 1.0347 - val_accuracy: 0.6278\n",
            "Epoch 13/25\n",
            "45/45 [==============================] - 13s 280ms/step - loss: 0.3608 - accuracy: 0.8873 - val_loss: 1.1203 - val_accuracy: 0.6278\n",
            "Epoch 14/25\n",
            "45/45 [==============================] - 13s 280ms/step - loss: 0.3133 - accuracy: 0.9023 - val_loss: 1.1415 - val_accuracy: 0.6136\n",
            "Epoch 15/25\n",
            "45/45 [==============================] - 13s 281ms/step - loss: 0.3497 - accuracy: 0.8824 - val_loss: 1.1437 - val_accuracy: 0.6037\n",
            "Epoch 16/25\n",
            "45/45 [==============================] - 13s 280ms/step - loss: 0.3070 - accuracy: 0.9120 - val_loss: 1.3121 - val_accuracy: 0.5682\n",
            "Epoch 17/25\n",
            "45/45 [==============================] - 13s 278ms/step - loss: 0.2449 - accuracy: 0.9259 - val_loss: 1.2386 - val_accuracy: 0.6065\n",
            "Epoch 18/25\n",
            "45/45 [==============================] - 13s 281ms/step - loss: 0.2210 - accuracy: 0.9290 - val_loss: 1.2054 - val_accuracy: 0.6065\n",
            "Epoch 19/25\n",
            "45/45 [==============================] - 13s 279ms/step - loss: 0.1748 - accuracy: 0.9586 - val_loss: 1.2560 - val_accuracy: 0.6207\n",
            "Epoch 20/25\n",
            "45/45 [==============================] - 13s 278ms/step - loss: 0.1996 - accuracy: 0.9468 - val_loss: 1.3462 - val_accuracy: 0.5895\n",
            "Epoch 21/25\n",
            "45/45 [==============================] - 12s 275ms/step - loss: 0.1574 - accuracy: 0.9663 - val_loss: 1.2121 - val_accuracy: 0.6250\n",
            "Epoch 22/25\n",
            "45/45 [==============================] - 12s 276ms/step - loss: 0.0936 - accuracy: 0.9833 - val_loss: 1.4260 - val_accuracy: 0.6037\n",
            "Epoch 23/25\n",
            "45/45 [==============================] - 12s 276ms/step - loss: 0.2883 - accuracy: 0.9231 - val_loss: 1.3074 - val_accuracy: 0.6165\n",
            "Epoch 24/25\n",
            "45/45 [==============================] - 13s 279ms/step - loss: 0.1003 - accuracy: 0.9812 - val_loss: 1.3489 - val_accuracy: 0.6250\n",
            "Epoch 25/25\n",
            "45/45 [==============================] - 13s 278ms/step - loss: 0.1470 - accuracy: 0.9701 - val_loss: 1.2560 - val_accuracy: 0.6278\n"
          ],
          "name": "stdout"
        },
        {
          "output_type": "execute_result",
          "data": {
            "text/plain": [
              "<tensorflow.python.keras.callbacks.History at 0x7f1472252890>"
            ]
          },
          "metadata": {
            "tags": []
          },
          "execution_count": 22
        }
      ]
    },
    {
      "cell_type": "markdown",
      "metadata": {
        "id": "NMuqa8xMKR3V"
      },
      "source": [
        "**Dropout** ~ It is a type of Stochastic Regualization Method used to tackle Overfitting."
      ]
    },
    {
      "cell_type": "markdown",
      "metadata": {
        "id": "u5Ztw0ZQKxtS"
      },
      "source": [
        "The idea was proposed in paper **Improving neural networks by preventing\n",
        "co-adaptation of feature detectors** by Hinton,et.al. \\\n",
        "Link for the paper ~ https://arxiv.org/pdf/1207.0580.pdf "
      ]
    },
    {
      "cell_type": "markdown",
      "metadata": {
        "id": "_sUZwYrVIBMv"
      },
      "source": [
        "![title](https://miro.medium.com/max/700/1*iWQzxhVlvadk6VAJjsgXgg.png)<br>\n",
        "Source ~ https://medium.com/@amarbudhiraja/https-medium-com-amarbudhiraja-learning-less-to-learn-better-dropout-in-deep-machine-learning-74334da4bfc5"
      ]
    },
    {
      "cell_type": "code",
      "metadata": {
        "id": "zxAaKoYY6pQe"
      },
      "source": [
        "regularized_model = tf.keras.models.Sequential(\n",
        "    [\n",
        "     tf.keras.layers.Conv2D(\n",
        "         64,\n",
        "         (3, 3),\n",
        "         activation = 'relu',\n",
        "         input_shape = (224, 224, 3)\n",
        "     ),\n",
        "     tf.keras.layers.MaxPooling2D(2, 2),\n",
        "     tf.keras.layers.Conv2D(\n",
        "         64,\n",
        "         (3, 3),\n",
        "         activation = 'relu'\n",
        "     ),\n",
        "     tf.keras.layers.MaxPooling2D(2, 2),\n",
        "     tf.keras.layers.Dropout(0.5),\n",
        "     tf.keras.layers.Conv2D(\n",
        "         64,\n",
        "         (3, 3),\n",
        "         activation = 'relu'\n",
        "     ),\n",
        "     tf.keras.layers.MaxPooling2D(2, 2),\n",
        "     tf.keras.layers.Flatten(),\n",
        "     tf.keras.layers.Dense(\n",
        "         512,\n",
        "         activation = 'relu'\n",
        "     ),\n",
        "     tf.keras.layers.Dropout(0.5),\n",
        "     tf.keras.layers.Dense(\n",
        "         5,\n",
        "         activation = 'softmax'\n",
        "     )\n",
        "    ]\n",
        ")"
      ],
      "execution_count": 24,
      "outputs": []
    },
    {
      "cell_type": "code",
      "metadata": {
        "colab": {
          "base_uri": "https://localhost:8080/"
        },
        "id": "qaJ1oqSSihMB",
        "outputId": "0c09f39e-5bb3-441e-9c24-9b39be7bf18e"
      },
      "source": [
        "regularized_model.summary()"
      ],
      "execution_count": 25,
      "outputs": [
        {
          "output_type": "stream",
          "text": [
            "Model: \"sequential_3\"\n",
            "_________________________________________________________________\n",
            "Layer (type)                 Output Shape              Param #   \n",
            "=================================================================\n",
            "conv2d_11 (Conv2D)           (None, 222, 222, 64)      1792      \n",
            "_________________________________________________________________\n",
            "max_pooling2d_11 (MaxPooling (None, 111, 111, 64)      0         \n",
            "_________________________________________________________________\n",
            "conv2d_12 (Conv2D)           (None, 109, 109, 64)      36928     \n",
            "_________________________________________________________________\n",
            "max_pooling2d_12 (MaxPooling (None, 54, 54, 64)        0         \n",
            "_________________________________________________________________\n",
            "dropout (Dropout)            (None, 54, 54, 64)        0         \n",
            "_________________________________________________________________\n",
            "conv2d_13 (Conv2D)           (None, 52, 52, 64)        36928     \n",
            "_________________________________________________________________\n",
            "max_pooling2d_13 (MaxPooling (None, 26, 26, 64)        0         \n",
            "_________________________________________________________________\n",
            "flatten_3 (Flatten)          (None, 43264)             0         \n",
            "_________________________________________________________________\n",
            "dense_8 (Dense)              (None, 512)               22151680  \n",
            "_________________________________________________________________\n",
            "dropout_1 (Dropout)          (None, 512)               0         \n",
            "_________________________________________________________________\n",
            "dense_9 (Dense)              (None, 5)                 2565      \n",
            "=================================================================\n",
            "Total params: 22,229,893\n",
            "Trainable params: 22,229,893\n",
            "Non-trainable params: 0\n",
            "_________________________________________________________________\n"
          ],
          "name": "stdout"
        }
      ]
    },
    {
      "cell_type": "code",
      "metadata": {
        "id": "S4Cq6JpR9GZq"
      },
      "source": [
        "regularized_model.compile(\n",
        "    loss = 'categorical_crossentropy',\n",
        "    optimizer = 'sgd',\n",
        "    metrics = ['accuracy']\n",
        ")"
      ],
      "execution_count": 26,
      "outputs": []
    },
    {
      "cell_type": "code",
      "metadata": {
        "id": "z_I3m9iu9LeL",
        "colab": {
          "base_uri": "https://localhost:8080/"
        },
        "outputId": "378b526f-1307-4dd1-dd90-c6919c31fa45"
      },
      "source": [
        "regularized_model.fit(\n",
        "    training_data,\n",
        "    validation_data = testing_data,\n",
        "    epochs = 25,\n",
        "    steps_per_epoch = training_steps,\n",
        "    validation_steps = testing_steps,\n",
        ")"
      ],
      "execution_count": 27,
      "outputs": [
        {
          "output_type": "stream",
          "text": [
            "Epoch 1/25\n",
            "45/45 [==============================] - 13s 276ms/step - loss: 1.5610 - accuracy: 0.2883 - val_loss: 1.5483 - val_accuracy: 0.3082\n",
            "Epoch 2/25\n",
            "45/45 [==============================] - 12s 269ms/step - loss: 1.4483 - accuracy: 0.3770 - val_loss: 1.4350 - val_accuracy: 0.3679\n",
            "Epoch 3/25\n",
            "45/45 [==============================] - 12s 269ms/step - loss: 1.3214 - accuracy: 0.4403 - val_loss: 1.3785 - val_accuracy: 0.3807\n",
            "Epoch 4/25\n",
            "45/45 [==============================] - 12s 271ms/step - loss: 1.2653 - accuracy: 0.4584 - val_loss: 1.3825 - val_accuracy: 0.4162\n",
            "Epoch 5/25\n",
            "45/45 [==============================] - 12s 270ms/step - loss: 1.1861 - accuracy: 0.4998 - val_loss: 1.2586 - val_accuracy: 0.4673\n",
            "Epoch 6/25\n",
            "45/45 [==============================] - 12s 270ms/step - loss: 1.1441 - accuracy: 0.5287 - val_loss: 1.1737 - val_accuracy: 0.5128\n",
            "Epoch 7/25\n",
            "45/45 [==============================] - 12s 271ms/step - loss: 1.1274 - accuracy: 0.5357 - val_loss: 1.1755 - val_accuracy: 0.5199\n",
            "Epoch 8/25\n",
            "45/45 [==============================] - 12s 274ms/step - loss: 1.0964 - accuracy: 0.5562 - val_loss: 1.1721 - val_accuracy: 0.5142\n",
            "Epoch 9/25\n",
            "45/45 [==============================] - 12s 274ms/step - loss: 1.0669 - accuracy: 0.5565 - val_loss: 1.1668 - val_accuracy: 0.5028\n",
            "Epoch 10/25\n",
            "45/45 [==============================] - 12s 274ms/step - loss: 1.0410 - accuracy: 0.5805 - val_loss: 1.1433 - val_accuracy: 0.5270\n",
            "Epoch 11/25\n",
            "45/45 [==============================] - 12s 275ms/step - loss: 1.0482 - accuracy: 0.5802 - val_loss: 1.1406 - val_accuracy: 0.5483\n",
            "Epoch 12/25\n",
            "45/45 [==============================] - 12s 274ms/step - loss: 1.0036 - accuracy: 0.6108 - val_loss: 1.1023 - val_accuracy: 0.5526\n",
            "Epoch 13/25\n",
            "45/45 [==============================] - 12s 273ms/step - loss: 0.9979 - accuracy: 0.6125 - val_loss: 1.0811 - val_accuracy: 0.5653\n",
            "Epoch 14/25\n",
            "45/45 [==============================] - 12s 275ms/step - loss: 0.9909 - accuracy: 0.6077 - val_loss: 1.1157 - val_accuracy: 0.5455\n",
            "Epoch 15/25\n",
            "45/45 [==============================] - 12s 273ms/step - loss: 0.9613 - accuracy: 0.6261 - val_loss: 1.1109 - val_accuracy: 0.5312\n",
            "Epoch 16/25\n",
            "45/45 [==============================] - 12s 275ms/step - loss: 0.9568 - accuracy: 0.6195 - val_loss: 1.0801 - val_accuracy: 0.5540\n",
            "Epoch 17/25\n",
            "45/45 [==============================] - 12s 273ms/step - loss: 0.9458 - accuracy: 0.6403 - val_loss: 1.0952 - val_accuracy: 0.5540\n",
            "Epoch 18/25\n",
            "45/45 [==============================] - 12s 275ms/step - loss: 0.9135 - accuracy: 0.6369 - val_loss: 1.0960 - val_accuracy: 0.5497\n",
            "Epoch 19/25\n",
            "45/45 [==============================] - 13s 278ms/step - loss: 0.9104 - accuracy: 0.6529 - val_loss: 1.0391 - val_accuracy: 0.5795\n",
            "Epoch 20/25\n",
            "45/45 [==============================] - 12s 273ms/step - loss: 0.8990 - accuracy: 0.6574 - val_loss: 1.0447 - val_accuracy: 0.5810\n",
            "Epoch 21/25\n",
            "45/45 [==============================] - 12s 273ms/step - loss: 0.8773 - accuracy: 0.6664 - val_loss: 1.0504 - val_accuracy: 0.5568\n",
            "Epoch 22/25\n",
            "45/45 [==============================] - 13s 277ms/step - loss: 0.8727 - accuracy: 0.6699 - val_loss: 1.1004 - val_accuracy: 0.5440\n",
            "Epoch 23/25\n",
            "45/45 [==============================] - 12s 276ms/step - loss: 0.8350 - accuracy: 0.6810 - val_loss: 1.0651 - val_accuracy: 0.5682\n",
            "Epoch 24/25\n",
            "45/45 [==============================] - 12s 273ms/step - loss: 0.8224 - accuracy: 0.6842 - val_loss: 1.0585 - val_accuracy: 0.5938\n",
            "Epoch 25/25\n",
            "45/45 [==============================] - 13s 278ms/step - loss: 0.7985 - accuracy: 0.6922 - val_loss: 0.9857 - val_accuracy: 0.6236\n"
          ],
          "name": "stdout"
        },
        {
          "output_type": "execute_result",
          "data": {
            "text/plain": [
              "<tensorflow.python.keras.callbacks.History at 0x7f11ec1ccdd0>"
            ]
          },
          "metadata": {
            "tags": []
          },
          "execution_count": 27
        }
      ]
    },
    {
      "cell_type": "code",
      "metadata": {
        "id": "A1o-6s_qi0ip"
      },
      "source": [
        ""
      ],
      "execution_count": null,
      "outputs": []
    }
  ]
}